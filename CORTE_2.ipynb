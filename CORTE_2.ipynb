{
  "nbformat": 4,
  "nbformat_minor": 0,
  "metadata": {
    "colab": {
      "provenance": [],
      "authorship_tag": "ABX9TyOTVKDPnmi0j3NzDdH0HYUq",
      "include_colab_link": true
    },
    "kernelspec": {
      "name": "python3",
      "display_name": "Python 3"
    },
    "language_info": {
      "name": "python"
    }
  },
  "cells": [
    {
      "cell_type": "markdown",
      "metadata": {
        "id": "view-in-github",
        "colab_type": "text"
      },
      "source": [
        "<a href=\"https://colab.research.google.com/github/Duban1922/Dub_1922/blob/main/CORTE_2.ipynb\" target=\"_parent\"><img src=\"https://colab.research.google.com/assets/colab-badge.svg\" alt=\"Open In Colab\"/></a>"
      ]
    },
    {
      "cell_type": "markdown",
      "source": [
        "**NAIMING**\n",
        "\n"
      ],
      "metadata": {
        "id": "wvMCVWpOXAfe"
      }
    },
    {
      "cell_type": "markdown",
      "source": [
        "4.1 Conditions and restrictions\n",
        "\n",
        "# You cant start a name with a number\n",
        "\n",
        "# 1a1 = 5 = this gives an error"
      ],
      "metadata": {
        "id": "SkflKG1KWjMc"
      }
    },
    {
      "cell_type": "code",
      "source": [
        "from os import error\n",
        "# You cant use spaces in a name\n",
        "\n",
        "My age = 18 = This gives an error\n",
        "\n",
        "## Solution - Use _\n",
        "\n",
        "my_age = 18"
      ],
      "metadata": {
        "id": "zSFKtA-EXnOl"
      },
      "execution_count": null,
      "outputs": []
    },
    {
      "cell_type": "markdown",
      "source": [
        "## 4.2 Best practice"
      ],
      "metadata": {
        "id": "MmFyUNu-YIhh"
      }
    },
    {
      "cell_type": "code",
      "source": [
        "# Consider that python is sensible to lower a upper cases\n",
        "\n",
        "age = 25\n",
        "Age = 26\n",
        "AGE = 27\n",
        "\n",
        "## BEST PRACTICE\n",
        "\n",
        "#Utilice minusculas simpre"
      ],
      "metadata": {
        "id": "eLpbOOOrYM4J"
      },
      "execution_count": 3,
      "outputs": []
    },
    {
      "cell_type": "markdown",
      "source": [
        "# **5. Variable types**"
      ],
      "metadata": {
        "id": "_Grw3_TeZBuy"
      }
    },
    {
      "cell_type": "markdown",
      "source": [
        "## 5.3 Booleans\n",
        "\n",
        "Variables that only take two values: \"true\" and \"false\" = \"1\" and \"0\""
      ],
      "metadata": {
        "id": "b8G9fh7AZLlw"
      }
    },
    {
      "cell_type": "code",
      "source": [
        "# Booleans expressions\n",
        "\n",
        "x = 2\n",
        "y = 3\n",
        "\n",
        "print(x < y) # Menor\n",
        "print( x == y) # Igual\n",
        "print( x > y) # Mayor\n",
        "print( x != y) # Diferente"
      ],
      "metadata": {
        "colab": {
          "base_uri": "https://localhost:8080/"
        },
        "id": "ZKaIUz69ahjC",
        "outputId": "09af9f9c-8ce2-4142-a57f-e2db2b2434df"
      },
      "execution_count": 9,
      "outputs": [
        {
          "output_type": "stream",
          "name": "stdout",
          "text": [
            "True\n",
            "False\n",
            "False\n",
            "True\n"
          ]
        }
      ]
    },
    {
      "cell_type": "code",
      "source": [
        "# You Can save a boolena expression\n",
        "\n",
        "b1 = x > y\n",
        "print(b1)"
      ],
      "metadata": {
        "colab": {
          "base_uri": "https://localhost:8080/"
        },
        "id": "pU8mlaCmcGzn",
        "outputId": "7882cac5-f824-45e7-c8c8-81cd0b7adbd0"
      },
      "execution_count": 10,
      "outputs": [
        {
          "output_type": "stream",
          "name": "stdout",
          "text": [
            "False\n"
          ]
        }
      ]
    },
    {
      "cell_type": "code",
      "source": [
        "# Exercise\n",
        "\n",
        "## Create a loop forchecking if tow numbers are <. >, == or !=\n",
        "## use the number from 1 to 3\n",
        "\n",
        "## Solution\n",
        "\n",
        "for x in range (1,4):\n",
        "  for y in range (1,4):\n",
        "    print( \"x = \", x , \"y = \", y)\n",
        "    print(x < y) # Menor\n",
        "    print( x == y) # Igual\n",
        "    print( x > y) # Mayor\n",
        "    print( x != y) # Diferente\n",
        "\n"
      ],
      "metadata": {
        "colab": {
          "base_uri": "https://localhost:8080/"
        },
        "id": "sv9YKxYxches",
        "outputId": "5d6fbbf7-7722-4ca8-dc48-c5f8b8cfd66d"
      },
      "execution_count": 12,
      "outputs": [
        {
          "output_type": "stream",
          "name": "stdout",
          "text": [
            "x =  1 y =  1\n",
            "False\n",
            "True\n",
            "False\n",
            "False\n",
            "x =  1 y =  2\n",
            "True\n",
            "False\n",
            "False\n",
            "True\n",
            "x =  1 y =  3\n",
            "True\n",
            "False\n",
            "False\n",
            "True\n",
            "x =  2 y =  1\n",
            "False\n",
            "False\n",
            "True\n",
            "True\n",
            "x =  2 y =  2\n",
            "False\n",
            "True\n",
            "False\n",
            "False\n",
            "x =  2 y =  3\n",
            "True\n",
            "False\n",
            "False\n",
            "True\n",
            "x =  3 y =  1\n",
            "False\n",
            "False\n",
            "True\n",
            "True\n",
            "x =  3 y =  2\n",
            "False\n",
            "False\n",
            "True\n",
            "True\n",
            "x =  3 y =  3\n",
            "False\n",
            "True\n",
            "False\n",
            "False\n"
          ]
        }
      ]
    },
    {
      "cell_type": "markdown",
      "source": [
        "## 5.2. String\n",
        "\n",
        "Variables that contained text"
      ],
      "metadata": {
        "id": "ssWcZUc-ecQl"
      }
    },
    {
      "cell_type": "code",
      "source": [
        "# Example\n",
        "\n",
        "full_name = \"DUBAN CESPEDES SANCHEZ\"\n",
        "print(full_name)"
      ],
      "metadata": {
        "colab": {
          "base_uri": "https://localhost:8080/"
        },
        "id": "HlWvXCK_elfe",
        "outputId": "5dc578c1-20ce-4ddb-e1ae-e166ba2aeff9"
      },
      "execution_count": 13,
      "outputs": [
        {
          "output_type": "stream",
          "name": "stdout",
          "text": [
            "DUBAN CESPEDES SANCHEZ\n"
          ]
        }
      ]
    },
    {
      "cell_type": "code",
      "source": [
        "# Slicing\n",
        "\n",
        "full_name[2]"
      ],
      "metadata": {
        "colab": {
          "base_uri": "https://localhost:8080/",
          "height": 36
        },
        "id": "hO-sCWzKe5Tu",
        "outputId": "2f786a0b-8d74-46f0-e256-5efc1b82431d"
      },
      "execution_count": 16,
      "outputs": [
        {
          "output_type": "execute_result",
          "data": {
            "text/plain": [
              "'B'"
            ],
            "application/vnd.google.colaboratory.intrinsic+json": {
              "type": "string"
            }
          },
          "metadata": {},
          "execution_count": 16
        }
      ]
    },
    {
      "cell_type": "code",
      "source": [
        "# Example - subse\n",
        "\n",
        "full_name[0: 5]"
      ],
      "metadata": {
        "colab": {
          "base_uri": "https://localhost:8080/",
          "height": 36
        },
        "id": "p-MMebAtfhef",
        "outputId": "14251f6c-e841-49bb-aab7-c449819dd813"
      },
      "execution_count": 18,
      "outputs": [
        {
          "output_type": "execute_result",
          "data": {
            "text/plain": [
              "'DUBAN'"
            ],
            "application/vnd.google.colaboratory.intrinsic+json": {
              "type": "string"
            }
          },
          "metadata": {},
          "execution_count": 18
        }
      ]
    }
  ]
}