{
  "nbformat": 4,
  "nbformat_minor": 0,
  "metadata": {
    "colab": {
      "provenance": [],
      "authorship_tag": "ABX9TyNTfijH58zTXRpObdTJGyir",
      "include_colab_link": true
    },
    "kernelspec": {
      "name": "python3",
      "display_name": "Python 3"
    },
    "language_info": {
      "name": "python"
    }
  },
  "cells": [
    {
      "cell_type": "markdown",
      "metadata": {
        "id": "view-in-github",
        "colab_type": "text"
      },
      "source": [
        "<a href=\"https://colab.research.google.com/github/Duban1922/Dub_1922/blob/main/Exposicion.ipynb\" target=\"_parent\"><img src=\"https://colab.research.google.com/assets/colab-badge.svg\" alt=\"Open In Colab\"/></a>"
      ]
    },
    {
      "cell_type": "code",
      "execution_count": 1,
      "metadata": {
        "colab": {
          "base_uri": "https://localhost:8080/",
          "height": 74
        },
        "id": "L8bJ-7byyiIy",
        "outputId": "ae441b4d-c733-4f5c-fb76-432d32ad71c6"
      },
      "outputs": [
        {
          "output_type": "display_data",
          "data": {
            "text/plain": [
              "<IPython.core.display.HTML object>"
            ],
            "text/html": [
              "<h1 style=\"color:red;\">Malnutrition in population from 5 to 17 years old in Bogotá</h1>\n"
            ]
          },
          "metadata": {}
        }
      ],
      "source": [
        "# Name Data\n",
        "%%html\n",
        "<h1 style=\"color:red;\">Malnutrition in population from 5 to 17 years old in Bogotá</h1>"
      ]
    },
    {
      "cell_type": "markdown",
      "source": [],
      "metadata": {
        "id": "VgpTg0uzNt7L"
      }
    },
    {
      "cell_type": "markdown",
      "source": [
        "## Base description\n",
        "\n",
        "*The base contains the following variables:*\n",
        "1. *Thinness cases*\n",
        "2. *Thinness ratio*\n",
        "3. *Excess weight cases*\n",
        "4. *Proportion of excess weight*\n",
        "5. *Cases of height delay*\n",
        "6. *Proportion delay in height*\n",
        "7. *Total Population*"
      ],
      "metadata": {
        "id": "iQlAAJXTLQmk"
      }
    },
    {
      "cell_type": "markdown",
      "source": [
        "## Period and Individuals\n",
        "\n",
        "*The database contains the following individuals and periods:*\n",
        "\n",
        "1. *Dates: from 2007 to 2023*\n",
        "2. *Area: Chapinero, Teusaquillo, Ciudad Bolivar, among others*"
      ],
      "metadata": {
        "id": "3oQYB6OBNzcy"
      }
    },
    {
      "cell_type": "markdown",
      "source": [
        "## Link\n",
        "[Malnutrición en población de 5 a 17 años en Bogotá](https://datosabiertos.bogota.gov.co/dataset/delgadez-y-exceso-de-peso-en-poblacion-de-5-a-17-anos-en-bogota-d-c)"
      ],
      "metadata": {
        "id": "yO2KTcES3PRq"
      }
    },
    {
      "cell_type": "markdown",
      "source": [],
      "metadata": {
        "id": "7a4yVw4v3ijV"
      }
    },
    {
      "cell_type": "code",
      "source": [
        "%%html\n",
        "<h1 style=\"color:red;\">Database Purpose</h1>"
      ],
      "metadata": {
        "colab": {
          "base_uri": "https://localhost:8080/",
          "height": 74
        },
        "id": "hWd0xwtv1E5T",
        "outputId": "ae0c7bd9-859e-4bff-a6bd-8e6f5e6f1e3e"
      },
      "execution_count": 2,
      "outputs": [
        {
          "output_type": "display_data",
          "data": {
            "text/plain": [
              "<IPython.core.display.HTML object>"
            ],
            "text/html": [
              "<h1 style=\"color:red;\">Database Purpose</h1>\n"
            ]
          },
          "metadata": {}
        }
      ]
    },
    {
      "cell_type": "markdown",
      "source": [
        "## History\n",
        "\n",
        "*Malnutrition in Bogotá is a complex problem that affects different groups of the population. Despite the efforts of the government and social organizations, it remains a significant challenge. Factors such as poverty, lack of access to nutritious foods, socioeconomic inequality, and lack of nutrition education contribute to this situation.*"
      ],
      "metadata": {
        "id": "piSy3YTL4Rar"
      }
    },
    {
      "cell_type": "markdown",
      "source": [
        "## Audience\n",
        "\n",
        "The malnutrition database is useful to a variety of stakeholders, including:\n",
        "\n",
        "1. **Government**: *To monitor and evaluate the prevalence of malnutrition in different areas and demographic groups, and thus design effective public health and nutrition policies and programs.*\n",
        "2. **Health Professionals**: *To understand malnutrition trends in their patients and provide appropriate nutritional guidance.*"
      ],
      "metadata": {
        "id": "268kp63R41pj"
      }
    },
    {
      "cell_type": "markdown",
      "source": [
        "## Visualization - Graphics\n",
        "\n",
        "1. **Heat map**:\n",
        "  *is a data visualization that uses colors to represent the intensity of values in a two-dimensional array. It is used to identify patterns, concentrations, trends or anomalies in large data sets quickly and effectively.*\n",
        "\n",
        "2. **Bar graph**:\n",
        "  *is a visual representation of data that uses rectangular bars to show the comparison between different categories. Each bar represents a specific category and the height of the bar is proportional to the magnitude or frequency of the variable being represented.*"
      ],
      "metadata": {
        "id": "EDIlzSrr6pSD"
      }
    },
    {
      "cell_type": "code",
      "source": [
        "%%html\n",
        "<h1 style=\"color:red;\">Examples of graphics</h1>"
      ],
      "metadata": {
        "colab": {
          "base_uri": "https://localhost:8080/",
          "height": 74
        },
        "id": "tijD000M8btu",
        "outputId": "e5698b6d-174e-42bf-bb3d-715d041fc9c6"
      },
      "execution_count": 3,
      "outputs": [
        {
          "output_type": "display_data",
          "data": {
            "text/plain": [
              "<IPython.core.display.HTML object>"
            ],
            "text/html": [
              "<h1 style=\"color:red;\">Examples of graphics</h1>\n"
            ]
          },
          "metadata": {}
        }
      ]
    },
    {
      "cell_type": "markdown",
      "source": [
        "## Example 1\n",
        "\n",
        "![heatmap](https://www.researchgate.net/profile/Francisco-Sandoval-Avila-2/publication/340903252/figure/fig25/AS:883968115232768@1587765830454/Figura-67-Mapa-de-calor-sobre-Accidentalidad-Vial-en-Bogota-2013-2017-Fuente.png)\n",
        "\n",
        "**Heatmap**: *It is effective to visualize the prevalence of malnutrition in different geographic regions. Darker colors may indicate a higher prevalence of malnutrition, while lighter colors may indicate a lower prevalence.*\n",
        "\n"
      ],
      "metadata": {
        "id": "bSPO-XdO8t8w"
      }
    },
    {
      "cell_type": "markdown",
      "source": [
        "## Example 2\n",
        "\n",
        "![Bar graph](https://www.bwpat.de/content/fileadmin/user_upload/ht2011/ft02/ad11/a4.jpg)\n",
        "\n",
        "**Bar graph**: *Can be used to compare the prevalence of malnutrition in different demographic groups or regions. Each bar represents a category (e.g. age groups, gender, geographic areas)*"
      ],
      "metadata": {
        "id": "atmgY8nIDFsp"
      }
    }
  ]
}