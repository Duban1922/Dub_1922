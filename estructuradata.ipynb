{
  "nbformat": 4,
  "nbformat_minor": 0,
  "metadata": {
    "colab": {
      "provenance": [],
      "authorship_tag": "ABX9TyPcjVD1CN6xfmAtR6PJKMPJ",
      "include_colab_link": true
    },
    "kernelspec": {
      "name": "python3",
      "display_name": "Python 3"
    },
    "language_info": {
      "name": "python"
    }
  },
  "cells": [
    {
      "cell_type": "markdown",
      "metadata": {
        "id": "view-in-github",
        "colab_type": "text"
      },
      "source": [
        "<a href=\"https://colab.research.google.com/github/Duban1922/Dub_1922/blob/main/estructuradata.ipynb\" target=\"_parent\"><img src=\"https://colab.research.google.com/assets/colab-badge.svg\" alt=\"Open In Colab\"/></a>"
      ]
    },
    {
      "cell_type": "markdown",
      "source": [
        "1. **Linear Algebra**\n"
      ],
      "metadata": {
        "id": "O-y6dgYgY24F"
      }
    },
    {
      "cell_type": "markdown",
      "source": [
        "## 1.1 Library"
      ],
      "metadata": {
        "id": "Zog76XEMd00j"
      }
    },
    {
      "cell_type": "markdown",
      "source": [
        "## 1.2 Creation"
      ],
      "metadata": {
        "id": "DLZV5IFnd5lN"
      }
    },
    {
      "cell_type": "code",
      "source": [
        "# Libraries\n",
        "import numpy as np\n"
      ],
      "metadata": {
        "id": "UnHQqWBhZAXd"
      },
      "execution_count": 6,
      "outputs": []
    },
    {
      "cell_type": "code",
      "source": [
        "# Column vector\n",
        "x = np.array([[1],[2],[3]])\n",
        "print(x)\n",
        "print(x.shape)"
      ],
      "metadata": {
        "colab": {
          "base_uri": "https://localhost:8080/"
        },
        "id": "cBv2XewYaMSR",
        "outputId": "f244e371-3046-4960-a485-7bd00985bdfc"
      },
      "execution_count": 9,
      "outputs": [
        {
          "output_type": "stream",
          "name": "stdout",
          "text": [
            "[[1]\n",
            " [2]\n",
            " [3]]\n",
            "(3, 1)\n"
          ]
        }
      ]
    },
    {
      "cell_type": "code",
      "source": [
        "# Row vector\n",
        "np.array([[1,2,3]])\n",
        "y = np.array([[4,5,6]])\n",
        "print(y)\n",
        "print(y.shape)"
      ],
      "metadata": {
        "colab": {
          "base_uri": "https://localhost:8080/"
        },
        "id": "X7-OAioGZRa9",
        "outputId": "c4295eca-bf6f-42e7-ab33-3312d341d7bd"
      },
      "execution_count": 12,
      "outputs": [
        {
          "output_type": "stream",
          "name": "stdout",
          "text": [
            "[[4 5 6]]\n",
            "(1, 3)\n"
          ]
        }
      ]
    },
    {
      "cell_type": "code",
      "source": [
        "A =   np.array([[1,2,3],[4,5,6],[7,8,9]])\n",
        "print(A)\n",
        "print(A.shape)"
      ],
      "metadata": {
        "colab": {
          "base_uri": "https://localhost:8080/"
        },
        "id": "qYQYwYr8b-wm",
        "outputId": "e1d3035a-f6a5-4d88-f756-95e331d69557"
      },
      "execution_count": 15,
      "outputs": [
        {
          "output_type": "stream",
          "name": "stdout",
          "text": [
            "[[1 2 3]\n",
            " [4 5 6]\n",
            " [7 8 9]]\n",
            "(3, 3)\n"
          ]
        }
      ]
    },
    {
      "cell_type": "markdown",
      "source": [
        "1.3. Sliceing\n"
      ],
      "metadata": {
        "id": "WTE6tWe9eBH1"
      }
    },
    {
      "cell_type": "code",
      "source": [
        "# Extract 1 element\n",
        "\n",
        "## Give the coordinates\n",
        "\n",
        "print(\"the firts element of x\", x[0])\n",
        "print(\"the firts element of x\", y[0])\n",
        "print(\"the firts element of x\", y[0,0]) ## Traer solo un elemento\n",
        "print(\"the firts element of A\", A[2,1])"
      ],
      "metadata": {
        "colab": {
          "base_uri": "https://localhost:8080/"
        },
        "id": "F6GR5YNceDwx",
        "outputId": "d84ce57d-79d6-4286-b5df-e16adb50825f"
      },
      "execution_count": 20,
      "outputs": [
        {
          "output_type": "stream",
          "name": "stdout",
          "text": [
            "the firts element of x [1]\n",
            "the firts element of x [4 5 6]\n",
            "the firts element of x 4\n",
            "the firts element of A 8\n"
          ]
        }
      ]
    },
    {
      "cell_type": "code",
      "source": [
        "# eXtract more than 1\n",
        "print(\"the first two rows of x\", x[0:2]) ## traer mas de 2 elementos\n",
        "print(\"the first two colums of y\", y[0,0:2])\n",
        "print(\"the first two colums and rows of A\", A[0:2,0:2])"
      ],
      "metadata": {
        "colab": {
          "base_uri": "https://localhost:8080/"
        },
        "id": "EE-1EUxFfj9W",
        "outputId": "64198e14-2f19-4787-b99f-98ab7710b28a"
      },
      "execution_count": 23,
      "outputs": [
        {
          "output_type": "stream",
          "name": "stdout",
          "text": [
            "the first two rows of x [[1]\n",
            " [2]]\n",
            "the first two colums of y [4 5]\n",
            "the first two colums and rows of A [[1 2]\n",
            " [4 5]]\n"
          ]
        }
      ]
    },
    {
      "cell_type": "code",
      "source": [
        "# Find Value\n",
        "## find the position of the number 5 in A\n",
        "\n",
        "np.where(A == 5)"
      ],
      "metadata": {
        "colab": {
          "base_uri": "https://localhost:8080/"
        },
        "id": "SYAutWxchXr8",
        "outputId": "94173c0f-68cd-4593-b518-8d05d6f1c1aa"
      },
      "execution_count": 24,
      "outputs": [
        {
          "output_type": "execute_result",
          "data": {
            "text/plain": [
              "(array([1]), array([1]))"
            ]
          },
          "metadata": {},
          "execution_count": 24
        }
      ]
    },
    {
      "cell_type": "markdown",
      "source": [
        "## 1.4. Methods\n"
      ],
      "metadata": {
        "id": "D_uaMn-riaP1"
      }
    },
    {
      "cell_type": "code",
      "source": [
        "# Zeros\n",
        "## Create vectors of matrices of only 0\n",
        "\n",
        "z1 = np.zeros(5)\n",
        "print(z1)\n",
        "\n",
        "z2 = np.zeros((5,1))\n",
        "print(z2)\n",
        "\n",
        "z3 = np.zeros((5,5))\n",
        "print(z3)"
      ],
      "metadata": {
        "colab": {
          "base_uri": "https://localhost:8080/"
        },
        "id": "ccMt-NnYiiss",
        "outputId": "fa918a21-ffd9-496b-e0b2-9460666df2d8"
      },
      "execution_count": 30,
      "outputs": [
        {
          "output_type": "stream",
          "name": "stdout",
          "text": [
            "[0. 0. 0. 0. 0.]\n",
            "[[0.]\n",
            " [0.]\n",
            " [0.]\n",
            " [0.]\n",
            " [0.]]\n",
            "[[0. 0. 0. 0. 0.]\n",
            " [0. 0. 0. 0. 0.]\n",
            " [0. 0. 0. 0. 0.]\n",
            " [0. 0. 0. 0. 0.]\n",
            " [0. 0. 0. 0. 0.]]\n"
          ]
        }
      ]
    },
    {
      "cell_type": "code",
      "source": [
        "# Ones\n",
        "## Create vectors of matrices of only 1\n",
        "\n",
        "h1 = np.ones(5)\n",
        "print(h1)\n",
        "\n",
        "h2 = np.ones((5,1))\n",
        "print(h2)\n",
        "\n",
        "h3 = np.ones((5,5))\n",
        "print(h3)"
      ],
      "metadata": {
        "colab": {
          "base_uri": "https://localhost:8080/"
        },
        "id": "A1Rjt55imSXD",
        "outputId": "5ad59008-b4cc-4e97-c5cd-79289de18b49"
      },
      "execution_count": 35,
      "outputs": [
        {
          "output_type": "stream",
          "name": "stdout",
          "text": [
            "[1. 1. 1. 1. 1.]\n",
            "[[1.]\n",
            " [1.]\n",
            " [1.]\n",
            " [1.]\n",
            " [1.]]\n",
            "[[1. 1. 1. 1. 1.]\n",
            " [1. 1. 1. 1. 1.]\n",
            " [1. 1. 1. 1. 1.]\n",
            " [1. 1. 1. 1. 1.]\n",
            " [1. 1. 1. 1. 1.]]\n"
          ]
        }
      ]
    },
    {
      "cell_type": "markdown",
      "source": [
        "## 1.5. Random Numbers\n",
        "\n"
      ],
      "metadata": {
        "id": "dC0XQlW0mq9W"
      }
    },
    {
      "cell_type": "markdown",
      "source": [
        "### Uniform distribution  [0,1]\n",
        "\n"
      ],
      "metadata": {
        "id": "oS4Rsxwpmy1Y"
      }
    },
    {
      "cell_type": "code",
      "source": [
        "np.random.rand()"
      ],
      "metadata": {
        "colab": {
          "base_uri": "https://localhost:8080/"
        },
        "id": "WyxQNIfymwuw",
        "outputId": "19da231b-7b68-4f4d-8515-44189ff91c41"
      },
      "execution_count": 42,
      "outputs": [
        {
          "output_type": "execute_result",
          "data": {
            "text/plain": [
              "0.9127504520239486"
            ]
          },
          "metadata": {},
          "execution_count": 42
        }
      ]
    },
    {
      "cell_type": "code",
      "source": [
        "# Example - Coin toss\n",
        "\n",
        "if np.random.rand() < 0.5:\n",
        "  print(\"Heads\")\n",
        "else:\n",
        "  print(\"Tails\")"
      ],
      "metadata": {
        "colab": {
          "base_uri": "https://localhost:8080/"
        },
        "id": "y71uJbSwnwTC",
        "outputId": "6dd038db-8f36-48d6-a30c-ec2eea7201e4"
      },
      "execution_count": 43,
      "outputs": [
        {
          "output_type": "stream",
          "name": "stdout",
          "text": [
            "Tails\n"
          ]
        }
      ]
    }
  ]
}