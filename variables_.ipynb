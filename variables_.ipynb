{
  "nbformat": 4,
  "nbformat_minor": 0,
  "metadata": {
    "colab": {
      "provenance": [],
      "authorship_tag": "ABX9TyMtdzCvYxb7RSMnpkouJdio",
      "include_colab_link": true
    },
    "kernelspec": {
      "name": "python3",
      "display_name": "Python 3"
    },
    "language_info": {
      "name": "python"
    }
  },
  "cells": [
    {
      "cell_type": "markdown",
      "metadata": {
        "id": "view-in-github",
        "colab_type": "text"
      },
      "source": [
        "<a href=\"https://colab.research.google.com/github/Duban1922/Dub_1922/blob/main/variables_.ipynb\" target=\"_parent\"><img src=\"https://colab.research.google.com/assets/colab-badge.svg\" alt=\"Open In Colab\"/></a>"
      ]
    },
    {
      "cell_type": "markdown",
      "source": [
        "**NAIMING**\n",
        "\n"
      ],
      "metadata": {
        "id": "wvMCVWpOXAfe"
      }
    },
    {
      "cell_type": "markdown",
      "source": [
        "4.1 Conditions and restrictions\n",
        "\n",
        "# You cant start a name with a number\n",
        "\n",
        "# 1a1 = 5 = this gives an error"
      ],
      "metadata": {
        "id": "SkflKG1KWjMc"
      }
    },
    {
      "cell_type": "code",
      "source": [
        "from os import error\n",
        "# You cant use spaces in a name\n",
        "\n",
        "My age = 18 = This gives an error\n",
        "\n",
        "## Solution - Use _\n",
        "\n",
        "my_age = 18"
      ],
      "metadata": {
        "id": "zSFKtA-EXnOl"
      },
      "execution_count": null,
      "outputs": []
    },
    {
      "cell_type": "markdown",
      "source": [
        "## 4.2 Best practice"
      ],
      "metadata": {
        "id": "MmFyUNu-YIhh"
      }
    },
    {
      "cell_type": "code",
      "source": [
        "# Consider that python is sensible to lower a upper cases\n",
        "\n",
        "age = 25\n",
        "Age = 26\n",
        "AGE = 27\n",
        "\n",
        "## BEST PRACTICE\n",
        "\n",
        "#Utilice minusculas simpre"
      ],
      "metadata": {
        "id": "eLpbOOOrYM4J"
      },
      "execution_count": null,
      "outputs": []
    },
    {
      "cell_type": "markdown",
      "source": [
        "# **5. Variable types**"
      ],
      "metadata": {
        "id": "_Grw3_TeZBuy"
      }
    },
    {
      "cell_type": "markdown",
      "source": [
        "## 5.3 Booleans\n",
        "\n",
        "Variables that only take two values: \"true\" and \"false\" = \"1\" and \"0\""
      ],
      "metadata": {
        "id": "b8G9fh7AZLlw"
      }
    },
    {
      "cell_type": "code",
      "source": [
        "# Booleans expressions\n",
        "\n",
        "x = 2\n",
        "y = 3\n",
        "\n",
        "print(x < y) # Menor\n",
        "print( x == y) # Igual\n",
        "print( x > y) # Mayor\n",
        "print( x != y) # Diferente"
      ],
      "metadata": {
        "colab": {
          "base_uri": "https://localhost:8080/"
        },
        "id": "ZKaIUz69ahjC",
        "outputId": "09af9f9c-8ce2-4142-a57f-e2db2b2434df"
      },
      "execution_count": null,
      "outputs": [
        {
          "output_type": "stream",
          "name": "stdout",
          "text": [
            "True\n",
            "False\n",
            "False\n",
            "True\n"
          ]
        }
      ]
    },
    {
      "cell_type": "code",
      "source": [
        "# You Can save a boolena expression\n",
        "\n",
        "b1 = x > y\n",
        "print(b1)"
      ],
      "metadata": {
        "colab": {
          "base_uri": "https://localhost:8080/"
        },
        "id": "pU8mlaCmcGzn",
        "outputId": "7882cac5-f824-45e7-c8c8-81cd0b7adbd0"
      },
      "execution_count": null,
      "outputs": [
        {
          "output_type": "stream",
          "name": "stdout",
          "text": [
            "False\n"
          ]
        }
      ]
    },
    {
      "cell_type": "code",
      "source": [
        "# Exercise\n",
        "\n",
        "## Create a loop forchecking if tow numbers are <. >, == or !=\n",
        "## use the number from 1 to 3\n",
        "\n",
        "## Solution\n",
        "\n",
        "for x in range (1,4):\n",
        "  for y in range (1,4):\n",
        "    print( \"x = \", x , \"y = \", y)\n",
        "    print(x < y) # Menor\n",
        "    print( x == y) # Igual\n",
        "    print( x > y) # Mayor\n",
        "    print( x != y) # Diferente\n",
        "\n"
      ],
      "metadata": {
        "colab": {
          "base_uri": "https://localhost:8080/"
        },
        "id": "sv9YKxYxches",
        "outputId": "5d6fbbf7-7722-4ca8-dc48-c5f8b8cfd66d"
      },
      "execution_count": null,
      "outputs": [
        {
          "output_type": "stream",
          "name": "stdout",
          "text": [
            "x =  1 y =  1\n",
            "False\n",
            "True\n",
            "False\n",
            "False\n",
            "x =  1 y =  2\n",
            "True\n",
            "False\n",
            "False\n",
            "True\n",
            "x =  1 y =  3\n",
            "True\n",
            "False\n",
            "False\n",
            "True\n",
            "x =  2 y =  1\n",
            "False\n",
            "False\n",
            "True\n",
            "True\n",
            "x =  2 y =  2\n",
            "False\n",
            "True\n",
            "False\n",
            "False\n",
            "x =  2 y =  3\n",
            "True\n",
            "False\n",
            "False\n",
            "True\n",
            "x =  3 y =  1\n",
            "False\n",
            "False\n",
            "True\n",
            "True\n",
            "x =  3 y =  2\n",
            "False\n",
            "False\n",
            "True\n",
            "True\n",
            "x =  3 y =  3\n",
            "False\n",
            "True\n",
            "False\n",
            "False\n"
          ]
        }
      ]
    },
    {
      "cell_type": "markdown",
      "source": [
        "## 5.2. String\n",
        "\n",
        "Variables that contained text"
      ],
      "metadata": {
        "id": "ssWcZUc-ecQl"
      }
    },
    {
      "cell_type": "code",
      "source": [
        "# Example\n",
        "\n",
        "full_name = \"DUBAN CESPEDES SANCHEZ\"\n",
        "print(full_name)"
      ],
      "metadata": {
        "colab": {
          "base_uri": "https://localhost:8080/"
        },
        "id": "HlWvXCK_elfe",
        "outputId": "519a4cce-d3dd-4445-8a17-cf500f04aa38"
      },
      "execution_count": 1,
      "outputs": [
        {
          "output_type": "stream",
          "name": "stdout",
          "text": [
            "DUBAN CESPEDES SANCHEZ\n"
          ]
        }
      ]
    },
    {
      "cell_type": "code",
      "source": [
        "# Slicing\n",
        "\n",
        "full_name[2]"
      ],
      "metadata": {
        "colab": {
          "base_uri": "https://localhost:8080/",
          "height": 36
        },
        "id": "hO-sCWzKe5Tu",
        "outputId": "2f786a0b-8d74-46f0-e256-5efc1b82431d"
      },
      "execution_count": null,
      "outputs": [
        {
          "output_type": "execute_result",
          "data": {
            "text/plain": [
              "'B'"
            ],
            "application/vnd.google.colaboratory.intrinsic+json": {
              "type": "string"
            }
          },
          "metadata": {},
          "execution_count": 16
        }
      ]
    },
    {
      "cell_type": "code",
      "source": [
        "# Example - subse\n",
        "\n",
        "full_name[0: 5]"
      ],
      "metadata": {
        "colab": {
          "base_uri": "https://localhost:8080/",
          "height": 36
        },
        "id": "p-MMebAtfhef",
        "outputId": "14251f6c-e841-49bb-aab7-c449819dd813"
      },
      "execution_count": null,
      "outputs": [
        {
          "output_type": "execute_result",
          "data": {
            "text/plain": [
              "'DUBAN'"
            ],
            "application/vnd.google.colaboratory.intrinsic+json": {
              "type": "string"
            }
          },
          "metadata": {},
          "execution_count": 18
        }
      ]
    },
    {
      "cell_type": "markdown",
      "source": [
        "### Methods\n"
      ],
      "metadata": {
        "id": "mI78lBEYTddg"
      }
    },
    {
      "cell_type": "code",
      "source": [
        "# Upper case\n",
        "full_name.upper()"
      ],
      "metadata": {
        "colab": {
          "base_uri": "https://localhost:8080/",
          "height": 36
        },
        "id": "9dpmrcBeTiLg",
        "outputId": "7dc20fd5-0f60-4560-9a1c-d04e23368aac"
      },
      "execution_count": 2,
      "outputs": [
        {
          "output_type": "execute_result",
          "data": {
            "text/plain": [
              "'DUBAN CESPEDES SANCHEZ'"
            ],
            "application/vnd.google.colaboratory.intrinsic+json": {
              "type": "string"
            }
          },
          "metadata": {},
          "execution_count": 2
        }
      ]
    },
    {
      "cell_type": "code",
      "source": [
        "# Lower case\n",
        "full_name.lower()"
      ],
      "metadata": {
        "colab": {
          "base_uri": "https://localhost:8080/",
          "height": 36
        },
        "id": "EOIXBZUcUDM8",
        "outputId": "b593c1c7-b078-4e86-f64d-d0223316f6ba"
      },
      "execution_count": 3,
      "outputs": [
        {
          "output_type": "execute_result",
          "data": {
            "text/plain": [
              "'duban cespedes sanchez'"
            ],
            "application/vnd.google.colaboratory.intrinsic+json": {
              "type": "string"
            }
          },
          "metadata": {},
          "execution_count": 3
        }
      ]
    },
    {
      "cell_type": "code",
      "source": [
        "# Replace\n",
        "\n",
        "full_name.replace(\"E\", \"x\")"
      ],
      "metadata": {
        "colab": {
          "base_uri": "https://localhost:8080/",
          "height": 36
        },
        "id": "vaDq0bvIUW9p",
        "outputId": "d442c9a7-9d31-42a6-c9df-6992ba2f89ee"
      },
      "execution_count": 7,
      "outputs": [
        {
          "output_type": "execute_result",
          "data": {
            "text/plain": [
              "'DUBAN CxSPxDxS SANCHxZ'"
            ],
            "application/vnd.google.colaboratory.intrinsic+json": {
              "type": "string"
            }
          },
          "metadata": {},
          "execution_count": 7
        }
      ]
    },
    {
      "cell_type": "code",
      "source": [
        "full_name.replace(\" \",\"\")"
      ],
      "metadata": {
        "colab": {
          "base_uri": "https://localhost:8080/",
          "height": 36
        },
        "id": "K1MedQLcUvCx",
        "outputId": "de525937-867a-4316-ee9b-d690af058462"
      },
      "execution_count": 6,
      "outputs": [
        {
          "output_type": "execute_result",
          "data": {
            "text/plain": [
              "'DUBANCESPEDESSANCHEZ'"
            ],
            "application/vnd.google.colaboratory.intrinsic+json": {
              "type": "string"
            }
          },
          "metadata": {},
          "execution_count": 6
        }
      ]
    },
    {
      "cell_type": "code",
      "source": [
        "# Find\n",
        "full_name.find(\"E\")"
      ],
      "metadata": {
        "colab": {
          "base_uri": "https://localhost:8080/"
        },
        "id": "s2MPfT7qVCBT",
        "outputId": "e31732a0-2bbf-40b6-aedd-73427d508dfd"
      },
      "execution_count": 11,
      "outputs": [
        {
          "output_type": "execute_result",
          "data": {
            "text/plain": [
              "7"
            ]
          },
          "metadata": {},
          "execution_count": 11
        }
      ]
    },
    {
      "cell_type": "code",
      "source": [
        "# INDEX\n",
        "full_name.index(\"S\")"
      ],
      "metadata": {
        "colab": {
          "base_uri": "https://localhost:8080/"
        },
        "id": "SWeFxCxMV0kd",
        "outputId": "a0287bed-e170-42d1-f80f-a235cbab80e9"
      },
      "execution_count": 12,
      "outputs": [
        {
          "output_type": "execute_result",
          "data": {
            "text/plain": [
              "8"
            ]
          },
          "metadata": {},
          "execution_count": 12
        }
      ]
    },
    {
      "cell_type": "code",
      "source": [
        "# SPLIT\n",
        "full_name.split(\" \")"
      ],
      "metadata": {
        "colab": {
          "base_uri": "https://localhost:8080/"
        },
        "id": "T88OuweyV_AL",
        "outputId": "085cc455-b6cb-4583-a8b4-6c9e0a943a27"
      },
      "execution_count": 17,
      "outputs": [
        {
          "output_type": "execute_result",
          "data": {
            "text/plain": [
              "['DUBAN', 'CESPEDES', 'SANCHEZ']"
            ]
          },
          "metadata": {},
          "execution_count": 17
        }
      ]
    },
    {
      "cell_type": "code",
      "source": [
        "# Count\n",
        "full_name.count(\"E\")"
      ],
      "metadata": {
        "colab": {
          "base_uri": "https://localhost:8080/"
        },
        "id": "G13OOOHQWnoP",
        "outputId": "a7c347d0-30c5-4cfd-f84f-6fbcab65353d"
      },
      "execution_count": 18,
      "outputs": [
        {
          "output_type": "execute_result",
          "data": {
            "text/plain": [
              "4"
            ]
          },
          "metadata": {},
          "execution_count": 18
        }
      ]
    }
  ]
}