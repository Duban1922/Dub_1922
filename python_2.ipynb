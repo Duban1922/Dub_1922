{
  "nbformat": 4,
  "nbformat_minor": 0,
  "metadata": {
    "colab": {
      "provenance": [],
      "authorship_tag": "ABX9TyMTZemwwiY5oGZx+jYPY+5C",
      "include_colab_link": true
    },
    "kernelspec": {
      "name": "python3",
      "display_name": "Python 3"
    },
    "language_info": {
      "name": "python"
    }
  },
  "cells": [
    {
      "cell_type": "markdown",
      "metadata": {
        "id": "view-in-github",
        "colab_type": "text"
      },
      "source": [
        "<a href=\"https://colab.research.google.com/github/Duban1922/Dub_1922/blob/main/python_2.ipynb\" target=\"_parent\"><img src=\"https://colab.research.google.com/assets/colab-badge.svg\" alt=\"Open In Colab\"/></a>"
      ]
    },
    {
      "cell_type": "code",
      "execution_count": null,
      "metadata": {
        "id": "R3dNIeWnM9Wy"
      },
      "outputs": [],
      "source": []
    },
    {
      "cell_type": "markdown",
      "source": [
        "# **1. QUE ES UNA VARIABLE\n",
        "\n",
        "*Container that store values"
      ],
      "metadata": {
        "id": "7UhcSLRdM-CP"
      }
    },
    {
      "cell_type": "markdown",
      "source": [
        "# **2. Declaration**\n",
        "\n"
      ],
      "metadata": {
        "id": "rs4o8zdhNRw-"
      }
    },
    {
      "cell_type": "code",
      "source": [
        "a = 5"
      ],
      "metadata": {
        "id": "Ps1MpB92NZDg"
      },
      "execution_count": null,
      "outputs": []
    },
    {
      "cell_type": "code",
      "source": [
        "print(a)"
      ],
      "metadata": {
        "colab": {
          "base_uri": "https://localhost:8080/"
        },
        "id": "NlbLbvRpN1Np",
        "outputId": "7b238f28-b260-4b6e-a5f7-de2b485c0582"
      },
      "execution_count": null,
      "outputs": [
        {
          "output_type": "stream",
          "name": "stdout",
          "text": [
            "5\n"
          ]
        }
      ]
    },
    {
      "cell_type": "code",
      "source": [
        "# Example\n",
        "print(a + 1)\n",
        "print(a * a)"
      ],
      "metadata": {
        "colab": {
          "base_uri": "https://localhost:8080/"
        },
        "id": "FFzT7bnVN-zR",
        "outputId": "45303008-3ad5-4a40-ab04-9f68a3bf4107"
      },
      "execution_count": null,
      "outputs": [
        {
          "output_type": "stream",
          "name": "stdout",
          "text": [
            "6\n",
            "25\n"
          ]
        }
      ]
    },
    {
      "cell_type": "code",
      "source": [
        "# Trucos\n",
        "\n",
        "x = y = z = 100"
      ],
      "metadata": {
        "id": "Brzkn3fFOp-E"
      },
      "execution_count": null,
      "outputs": []
    },
    {
      "cell_type": "code",
      "source": [
        "# truco\n",
        "n, m = 10, 15"
      ],
      "metadata": {
        "id": "W6XPmYEAO9PN"
      },
      "execution_count": null,
      "outputs": []
    },
    {
      "cell_type": "markdown",
      "source": [
        "# **3. Borrar y eliminar variables\n"
      ],
      "metadata": {
        "id": "LAgE1DebPaM-"
      }
    },
    {
      "cell_type": "code",
      "source": [
        "# delete one or more variabels\n",
        "del x, n"
      ],
      "metadata": {
        "id": "MyaiuPoOPgpO"
      },
      "execution_count": null,
      "outputs": []
    },
    {
      "cell_type": "code",
      "source": [
        "# Clear all variables\n",
        "%reset"
      ],
      "metadata": {
        "colab": {
          "base_uri": "https://localhost:8080/"
        },
        "id": "1SXX10IGQSxo",
        "outputId": "0daba7ce-a276-49e4-d176-f9ca4661074b"
      },
      "execution_count": null,
      "outputs": [
        {
          "name": "stdout",
          "output_type": "stream",
          "text": [
            "Once deleted, variables cannot be recovered. Proceed (y/[n])? y\n"
          ]
        }
      ]
    },
    {
      "cell_type": "code",
      "source": [],
      "metadata": {
        "id": "mDJck52iQjdI"
      },
      "execution_count": null,
      "outputs": []
    },
    {
      "cell_type": "code",
      "source": [
        "# Exercise\n",
        "## Print result of rounding to 3 decimals the calcule 10 divided bt its precednets\n",
        "## Using variables\n",
        "\n"
      ],
      "metadata": {
        "id": "4p-m4dzMLv11"
      },
      "execution_count": null,
      "outputs": []
    },
    {
      "cell_type": "code",
      "source": [
        "a = 20 #number\n",
        "b = 4  #decimals\n",
        "\n",
        "\n",
        "for i in range(1,a+1):\n",
        "  print(\"Aprox, with\", i, \"decimals is\", round(a/ i, b))\n"
      ],
      "metadata": {
        "colab": {
          "base_uri": "https://localhost:8080/"
        },
        "id": "uFH6Hc_hMx4X",
        "outputId": "bddb67bd-d081-4f56-f90e-3f499ceaf52d"
      },
      "execution_count": null,
      "outputs": [
        {
          "output_type": "stream",
          "name": "stdout",
          "text": [
            "Aprox, with 1 decimals is 20.0\n",
            "Aprox, with 2 decimals is 10.0\n",
            "Aprox, with 3 decimals is 6.6667\n",
            "Aprox, with 4 decimals is 5.0\n",
            "Aprox, with 5 decimals is 4.0\n",
            "Aprox, with 6 decimals is 3.3333\n",
            "Aprox, with 7 decimals is 2.8571\n",
            "Aprox, with 8 decimals is 2.5\n",
            "Aprox, with 9 decimals is 2.2222\n",
            "Aprox, with 10 decimals is 2.0\n",
            "Aprox, with 11 decimals is 1.8182\n",
            "Aprox, with 12 decimals is 1.6667\n",
            "Aprox, with 13 decimals is 1.5385\n",
            "Aprox, with 14 decimals is 1.4286\n",
            "Aprox, with 15 decimals is 1.3333\n",
            "Aprox, with 16 decimals is 1.25\n",
            "Aprox, with 17 decimals is 1.1765\n",
            "Aprox, with 18 decimals is 1.1111\n",
            "Aprox, with 19 decimals is 1.0526\n",
            "Aprox, with 20 decimals is 1.0\n"
          ]
        }
      ]
    },
    {
      "cell_type": "code",
      "source": [
        "Multiplos de 100 con variable\n",
        "\n",
        "for i in range(1,101):\n",
        "  print(7*i)\n"
      ],
      "metadata": {
        "id": "4ImUTS18U-m9"
      },
      "execution_count": null,
      "outputs": []
    },
    {
      "cell_type": "code",
      "source": [
        "n = 100\n",
        "m = 7\n",
        "for i in range( 1, n+1):\n",
        "  print(n*i)"
      ],
      "metadata": {
        "colab": {
          "base_uri": "https://localhost:8080/"
        },
        "id": "prdY7TWNV49A",
        "outputId": "ebc4a797-71f5-4253-a10c-60d29d81a1bb"
      },
      "execution_count": null,
      "outputs": [
        {
          "output_type": "stream",
          "name": "stdout",
          "text": [
            "100\n",
            "200\n",
            "300\n",
            "400\n",
            "500\n",
            "600\n",
            "700\n",
            "800\n",
            "900\n",
            "1000\n",
            "1100\n",
            "1200\n",
            "1300\n",
            "1400\n",
            "1500\n",
            "1600\n",
            "1700\n",
            "1800\n",
            "1900\n",
            "2000\n",
            "2100\n",
            "2200\n",
            "2300\n",
            "2400\n",
            "2500\n",
            "2600\n",
            "2700\n",
            "2800\n",
            "2900\n",
            "3000\n",
            "3100\n",
            "3200\n",
            "3300\n",
            "3400\n",
            "3500\n",
            "3600\n",
            "3700\n",
            "3800\n",
            "3900\n",
            "4000\n",
            "4100\n",
            "4200\n",
            "4300\n",
            "4400\n",
            "4500\n",
            "4600\n",
            "4700\n",
            "4800\n",
            "4900\n",
            "5000\n",
            "5100\n",
            "5200\n",
            "5300\n",
            "5400\n",
            "5500\n",
            "5600\n",
            "5700\n",
            "5800\n",
            "5900\n",
            "6000\n",
            "6100\n",
            "6200\n",
            "6300\n",
            "6400\n",
            "6500\n",
            "6600\n",
            "6700\n",
            "6800\n",
            "6900\n",
            "7000\n",
            "7100\n",
            "7200\n",
            "7300\n",
            "7400\n",
            "7500\n",
            "7600\n",
            "7700\n",
            "7800\n",
            "7900\n",
            "8000\n",
            "8100\n",
            "8200\n",
            "8300\n",
            "8400\n",
            "8500\n",
            "8600\n",
            "8700\n",
            "8800\n",
            "8900\n",
            "9000\n",
            "9100\n",
            "9200\n",
            "9300\n",
            "9400\n",
            "9500\n",
            "9600\n",
            "9700\n",
            "9800\n",
            "9900\n",
            "10000\n"
          ]
        }
      ]
    },
    {
      "cell_type": "code",
      "source": [],
      "metadata": {
        "id": "_Kb4gyALWpbR"
      },
      "execution_count": null,
      "outputs": []
    }
  ]
}