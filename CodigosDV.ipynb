{
  "nbformat": 4,
  "nbformat_minor": 0,
  "metadata": {
    "colab": {
      "provenance": [],
      "authorship_tag": "ABX9TyPVPXgZkyrn5AFcqu7afSYA",
      "include_colab_link": true
    },
    "kernelspec": {
      "name": "python3",
      "display_name": "Python 3"
    },
    "language_info": {
      "name": "python"
    }
  },
  "cells": [
    {
      "cell_type": "markdown",
      "metadata": {
        "id": "view-in-github",
        "colab_type": "text"
      },
      "source": [
        "<a href=\"https://colab.research.google.com/github/Duban1922/Dub_1922/blob/main/CodigosDV.ipynb\" target=\"_parent\"><img src=\"https://colab.research.google.com/assets/colab-badge.svg\" alt=\"Open In Colab\"/></a>"
      ]
    },
    {
      "cell_type": "markdown",
      "source": [
        "# Title"
      ],
      "metadata": {
        "id": "s_HNpWI-E1Th"
      }
    },
    {
      "cell_type": "markdown",
      "source": [
        "## Subtitle"
      ],
      "metadata": {
        "id": "7MmfQXC7GOzl"
      }
    },
    {
      "cell_type": "markdown",
      "source": [
        "# text formating"
      ],
      "metadata": {
        "id": "FvSHLfQ3G4JH"
      }
    },
    {
      "cell_type": "markdown",
      "source": [
        "## Bold\n",
        "\n",
        "**Duban Cespedes Sanchez**"
      ],
      "metadata": {
        "id": "F3nxOD2cG9vj"
      }
    },
    {
      "cell_type": "markdown",
      "source": [
        "## italic\n",
        "\n",
        "*Duban*"
      ],
      "metadata": {
        "id": "LCkNIMoXH-Iw"
      }
    },
    {
      "cell_type": "markdown",
      "source": [
        "## ombined\n",
        "\n",
        "***Duban***"
      ],
      "metadata": {
        "id": "DNzfMVXVIRmy"
      }
    },
    {
      "cell_type": "markdown",
      "source": [
        "## Underline\n",
        "\n",
        "<u>Este texto está subrayado.\n",
        "\n"
      ],
      "metadata": {
        "id": "pLNqHviiIcIp"
      }
    },
    {
      "cell_type": "markdown",
      "source": [],
      "metadata": {
        "id": "YFafdfMMKoZ4"
      }
    },
    {
      "cell_type": "markdown",
      "source": [
        "## Crear lista desorden\n",
        "\n",
        "- Hola\n",
        "- Adios\n"
      ],
      "metadata": {
        "id": "ZCzBkNFnKqW4"
      }
    },
    {
      "cell_type": "markdown",
      "source": [],
      "metadata": {
        "id": "aemJni_NLFXx"
      }
    },
    {
      "cell_type": "markdown",
      "source": [
        "## lista en orden\n",
        "\n",
        "1. Hola\n",
        "2. Adios\n"
      ],
      "metadata": {
        "id": "7TGoEWx1LI6B"
      }
    },
    {
      "cell_type": "markdown",
      "source": [
        " <li>Comprar leche</li>"
      ],
      "metadata": {
        "id": "QSkscdStLyuz"
      }
    }
  ]
}