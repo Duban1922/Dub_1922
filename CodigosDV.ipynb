{
  "nbformat": 4,
  "nbformat_minor": 0,
  "metadata": {
    "colab": {
      "provenance": [],
      "authorship_tag": "ABX9TyOOxKoJ6YP6EVOFYEe+LxzP",
      "include_colab_link": true
    },
    "kernelspec": {
      "name": "python3",
      "display_name": "Python 3"
    },
    "language_info": {
      "name": "python"
    }
  },
  "cells": [
    {
      "cell_type": "markdown",
      "metadata": {
        "id": "view-in-github",
        "colab_type": "text"
      },
      "source": [
        "<a href=\"https://colab.research.google.com/github/Duban1922/Dub_1922/blob/main/CodigosDV.ipynb\" target=\"_parent\"><img src=\"https://colab.research.google.com/assets/colab-badge.svg\" alt=\"Open In Colab\"/></a>"
      ]
    },
    {
      "cell_type": "markdown",
      "source": [
        "# Title"
      ],
      "metadata": {
        "id": "s_HNpWI-E1Th"
      }
    },
    {
      "cell_type": "markdown",
      "source": [
        "## Subtitle"
      ],
      "metadata": {
        "id": "7MmfQXC7GOzl"
      }
    },
    {
      "cell_type": "markdown",
      "source": [
        "# text formating"
      ],
      "metadata": {
        "id": "FvSHLfQ3G4JH"
      }
    },
    {
      "cell_type": "markdown",
      "source": [
        "## Bold\n",
        "\n",
        "**Duban Cespedes Sanchez**"
      ],
      "metadata": {
        "id": "F3nxOD2cG9vj"
      }
    },
    {
      "cell_type": "markdown",
      "source": [
        "## italic\n",
        "\n",
        "*Duban*"
      ],
      "metadata": {
        "id": "LCkNIMoXH-Iw"
      }
    },
    {
      "cell_type": "markdown",
      "source": [
        "## ombined\n",
        "\n",
        "***Duban***"
      ],
      "metadata": {
        "id": "DNzfMVXVIRmy"
      }
    },
    {
      "cell_type": "markdown",
      "source": [
        "## Underline\n",
        "\n",
        "<u>Este texto está subrayado.\n",
        "\n"
      ],
      "metadata": {
        "id": "pLNqHviiIcIp"
      }
    },
    {
      "cell_type": "markdown",
      "source": [],
      "metadata": {
        "id": "YFafdfMMKoZ4"
      }
    },
    {
      "cell_type": "markdown",
      "source": [
        "## Crear lista desorden\n",
        "\n",
        "- Hola\n",
        "- Adios\n"
      ],
      "metadata": {
        "id": "ZCzBkNFnKqW4"
      }
    },
    {
      "cell_type": "markdown",
      "source": [],
      "metadata": {
        "id": "aemJni_NLFXx"
      }
    },
    {
      "cell_type": "markdown",
      "source": [
        "## lista en orden\n",
        "\n",
        "1. Hola\n",
        "2. Adios\n"
      ],
      "metadata": {
        "id": "7TGoEWx1LI6B"
      }
    },
    {
      "cell_type": "markdown",
      "source": [
        " <li>Comprar leche</li>"
      ],
      "metadata": {
        "id": "QSkscdStLyuz"
      }
    },
    {
      "cell_type": "markdown",
      "source": [
        "# Insert"
      ],
      "metadata": {
        "id": "qa6dzGAKAOli"
      }
    },
    {
      "cell_type": "markdown",
      "source": [
        "## Link\n",
        "[La Salle](https://https://www.lasalle.edu.co/)"
      ],
      "metadata": {
        "id": "70xL_1b4AT9w"
      }
    },
    {
      "cell_type": "markdown",
      "source": [
        "## Image\n",
        "\n",
        "![image.jfif](data:image/jpeg;base64,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)"
      ],
      "metadata": {
        "id": "G9fBIn80BB9H"
      }
    },
    {
      "cell_type": "markdown",
      "source": [
        "## Video\n",
        "\n",
        "\n",
        "\n"
      ],
      "metadata": {
        "id": "zSHM1GgwCm_x"
      }
    },
    {
      "cell_type": "code",
      "source": [
        "%%html\n",
        "<iframe width=\"560\" height=\"315\" src=\"https://www.youtube.com/embed/CeatmkaOIw0?si=kRCpfBzBlOqRvwD0\" title=\"YouTube video player\" frameborder=\"0\" allow=\"accelerometer; autoplay; clipboard-write; encrypted-media; gyroscope; picture-in-picture; web-share\" allowfullscreen></iframe>\n"
      ],
      "metadata": {
        "colab": {
          "base_uri": "https://localhost:8080/",
          "height": 336
        },
        "id": "N1IpHLk1GVMA",
        "outputId": "e44189f5-b5b7-480d-f03d-31c0d4ef496e"
      },
      "execution_count": null,
      "outputs": [
        {
          "output_type": "display_data",
          "data": {
            "text/plain": [
              "<IPython.core.display.HTML object>"
            ],
            "text/html": [
              "<iframe width=\"560\" height=\"315\" src=\"https://www.youtube.com/embed/CeatmkaOIw0?si=kRCpfBzBlOqRvwD0\" title=\"YouTube video player\" frameborder=\"0\" allow=\"accelerometer; autoplay; clipboard-write; encrypted-media; gyroscope; picture-in-picture; web-share\" allowfullscreen></iframe>\n"
            ]
          },
          "metadata": {}
        }
      ]
    },
    {
      "cell_type": "markdown",
      "source": [
        "## Titulo color\n",
        "\n",
        "<font color= \"red\"> Welcome to freeCodeCamp. </font>\n",
        "\n",
        "\n",
        "\n"
      ],
      "metadata": {
        "id": "lFdVADVbHI7q"
      }
    },
    {
      "cell_type": "code",
      "source": [
        "%%html\n",
        "<h1 style=\"color:red;\">Título</h1>"
      ],
      "metadata": {
        "colab": {
          "base_uri": "https://localhost:8080/",
          "height": 74
        },
        "id": "10DsqJyKIjpL",
        "outputId": "c466232b-f8b4-4774-e6b4-91c394f18512"
      },
      "execution_count": null,
      "outputs": [
        {
          "output_type": "display_data",
          "data": {
            "text/plain": [
              "<IPython.core.display.HTML object>"
            ],
            "text/html": [
              "<h1 style=\"color:red;\">Título</h1>\n"
            ]
          },
          "metadata": {}
        }
      ]
    },
    {
      "cell_type": "markdown",
      "source": [
        "# Python como calculadora\n",
        "\n"
      ],
      "metadata": {
        "id": "zUb8Cw-6Fw57"
      }
    },
    {
      "cell_type": "code",
      "source": [
        "# additon\n",
        "2 + 3"
      ],
      "metadata": {
        "colab": {
          "base_uri": "https://localhost:8080/"
        },
        "id": "ko4JK6PlGNgV",
        "outputId": "7da86e8a-5743-4351-9a69-8287cbabd7f9"
      },
      "execution_count": null,
      "outputs": [
        {
          "output_type": "execute_result",
          "data": {
            "text/plain": [
              "5"
            ]
          },
          "metadata": {},
          "execution_count": 2
        }
      ]
    },
    {
      "cell_type": "code",
      "source": [
        "# Substraction\n",
        "16 - 9"
      ],
      "metadata": {
        "colab": {
          "base_uri": "https://localhost:8080/"
        },
        "id": "4F4IK_tZHOwl",
        "outputId": "31e33377-44e3-459c-ea1f-d8564fe404bc"
      },
      "execution_count": null,
      "outputs": [
        {
          "output_type": "execute_result",
          "data": {
            "text/plain": [
              "7"
            ]
          },
          "metadata": {},
          "execution_count": 3
        }
      ]
    },
    {
      "cell_type": "code",
      "source": [
        "# Multiplication\n",
        "13 * 7 # thirteen times seven"
      ],
      "metadata": {
        "colab": {
          "base_uri": "https://localhost:8080/"
        },
        "id": "rmqYiJn4HWnc",
        "outputId": "8d2047c3-9f3b-4911-853f-b4def0aaf225"
      },
      "execution_count": null,
      "outputs": [
        {
          "output_type": "execute_result",
          "data": {
            "text/plain": [
              "91"
            ]
          },
          "metadata": {},
          "execution_count": 4
        }
      ]
    },
    {
      "cell_type": "code",
      "source": [
        "# Division\n",
        "10 / 3"
      ],
      "metadata": {
        "colab": {
          "base_uri": "https://localhost:8080/"
        },
        "id": "khgGgrvzHz0u",
        "outputId": "f438019e-5bf4-43b2-ec75-51e0cbc81db6"
      },
      "execution_count": null,
      "outputs": [
        {
          "output_type": "execute_result",
          "data": {
            "text/plain": [
              "3.3333333333333335"
            ]
          },
          "metadata": {},
          "execution_count": 6
        }
      ]
    },
    {
      "cell_type": "code",
      "source": [
        "# Integer division\n",
        "10 // 3 # Numero entero"
      ],
      "metadata": {
        "colab": {
          "base_uri": "https://localhost:8080/"
        },
        "id": "FLno_JARIMJG",
        "outputId": "9a89236e-44cd-4e8a-a4fb-50a0f9ee6f5a"
      },
      "execution_count": null,
      "outputs": [
        {
          "output_type": "execute_result",
          "data": {
            "text/plain": [
              "3"
            ]
          },
          "metadata": {},
          "execution_count": 7
        }
      ]
    },
    {
      "cell_type": "code",
      "source": [
        "# Exponential\n",
        "3 ** 3 # power"
      ],
      "metadata": {
        "colab": {
          "base_uri": "https://localhost:8080/"
        },
        "id": "bcMoUIo8JUYJ",
        "outputId": "e4079c33-9c00-4660-cc8c-65b9426d7593"
      },
      "execution_count": null,
      "outputs": [
        {
          "output_type": "execute_result",
          "data": {
            "text/plain": [
              "27"
            ]
          },
          "metadata": {},
          "execution_count": 8
        }
      ]
    },
    {
      "cell_type": "markdown",
      "source": [
        "# **2. Compositeoperations and Paraentheses\n"
      ],
      "metadata": {
        "id": "9vic0A8SJ28K"
      }
    },
    {
      "cell_type": "code",
      "source": [
        "2 * 3 ** 2 - 1\n"
      ],
      "metadata": {
        "colab": {
          "base_uri": "https://localhost:8080/"
        },
        "id": "eNxIfN7nK5Jd",
        "outputId": "6b83201a-3d0a-4b3b-9844-633660d06762"
      },
      "execution_count": null,
      "outputs": [
        {
          "output_type": "execute_result",
          "data": {
            "text/plain": [
              "17"
            ]
          },
          "metadata": {},
          "execution_count": 9
        }
      ]
    },
    {
      "cell_type": "markdown",
      "source": [
        "## Types of numbers\n",
        "\n",
        "*Natural*: 0, 1 , 2... these are positive integers\n",
        "\n",
        "*Intengers*: -2 , -1, 0, 1, 2\n",
        "\n",
        "*Real*: All numbers except imaginary\n",
        "\n"
      ],
      "metadata": {
        "id": "9iU8lfAkLamv"
      }
    },
    {
      "cell_type": "code",
      "source": [
        "# Example\n",
        "type(26)"
      ],
      "metadata": {
        "colab": {
          "base_uri": "https://localhost:8080/"
        },
        "id": "4mWezNLNL9Ef",
        "outputId": "c394c31e-848f-4049-ef2b-24ca4b1b3a39"
      },
      "execution_count": null,
      "outputs": [
        {
          "output_type": "execute_result",
          "data": {
            "text/plain": [
              "int"
            ]
          },
          "metadata": {},
          "execution_count": 12
        }
      ]
    },
    {
      "cell_type": "code",
      "source": [
        "type(1.25)"
      ],
      "metadata": {
        "colab": {
          "base_uri": "https://localhost:8080/"
        },
        "id": "FEF4wx_CMuS4",
        "outputId": "42d76aac-1368-4446-8de9-22a6d0b27606"
      },
      "execution_count": null,
      "outputs": [
        {
          "output_type": "execute_result",
          "data": {
            "text/plain": [
              "float"
            ]
          },
          "metadata": {},
          "execution_count": 16
        }
      ]
    },
    {
      "cell_type": "code",
      "source": [
        "# Scient notation\n",
        "5e-1"
      ],
      "metadata": {
        "colab": {
          "base_uri": "https://localhost:8080/"
        },
        "id": "AyVgFqQoMyPI",
        "outputId": "4eb76317-a6fd-4459-ce8d-b423f1c7f56b"
      },
      "execution_count": null,
      "outputs": [
        {
          "output_type": "execute_result",
          "data": {
            "text/plain": [
              "0.5"
            ]
          },
          "metadata": {},
          "execution_count": 18
        }
      ]
    },
    {
      "cell_type": "code",
      "source": [
        "5e1"
      ],
      "metadata": {
        "colab": {
          "base_uri": "https://localhost:8080/"
        },
        "id": "uTbX5PmEOsiW",
        "outputId": "c4c4a005-2e62-42c4-f4ac-8ada86dc3674"
      },
      "execution_count": null,
      "outputs": [
        {
          "output_type": "execute_result",
          "data": {
            "text/plain": [
              "50.0"
            ]
          },
          "metadata": {},
          "execution_count": 19
        }
      ]
    },
    {
      "cell_type": "markdown",
      "source": [
        "# Round\n",
        "\n",
        "#Redondea los decimales"
      ],
      "metadata": {
        "id": "diD_4GucEmvr"
      }
    },
    {
      "cell_type": "code",
      "source": [
        "round(7.2345, 1)"
      ],
      "metadata": {
        "colab": {
          "base_uri": "https://localhost:8080/"
        },
        "id": "SiEVFwvyEtCD",
        "outputId": "d9ca8242-cf8a-4091-9450-3454ec15e509"
      },
      "execution_count": null,
      "outputs": [
        {
          "output_type": "execute_result",
          "data": {
            "text/plain": [
              "7.2"
            ]
          },
          "metadata": {},
          "execution_count": 2
        }
      ]
    },
    {
      "cell_type": "code",
      "source": [
        "print(round(7.235, 0))"
      ],
      "metadata": {
        "colab": {
          "base_uri": "https://localhost:8080/"
        },
        "id": "OXbIMT7UF_0G",
        "outputId": "2499dc83-61ac-484e-ae28-dc75ef977f55"
      },
      "execution_count": 13,
      "outputs": [
        {
          "output_type": "stream",
          "name": "stdout",
          "text": [
            "7.0\n"
          ]
        }
      ]
    },
    {
      "cell_type": "code",
      "source": [
        "print(\"Aprox, with\", 0, \"decimals is\", round(7.245,0))\n",
        "print(\"Aprox, with\", 1, \"decimals is\", round(7.245,1))\n",
        "print(\"Aprox, with\", 2, \"decimals is\", round(7.245,2))\n",
        "print(\"Aprox, with\", 3, \"decimals is\", round(7.245,3))"
      ],
      "metadata": {
        "colab": {
          "base_uri": "https://localhost:8080/"
        },
        "id": "Fr2SBEY4GehH",
        "outputId": "cad3669a-227e-4e0d-ba47-fc1c37771362"
      },
      "execution_count": 17,
      "outputs": [
        {
          "output_type": "stream",
          "name": "stdout",
          "text": [
            "Aprox, with 0 decimals is 7.0\n",
            "Aprox, with 1 decimals is 7.2\n",
            "Aprox, with 2 decimals is 7.25\n",
            "Aprox, with 3 decimals is 7.245\n"
          ]
        }
      ]
    },
    {
      "cell_type": "code",
      "source": [
        "for i in range (0, 10): print(i)"
      ],
      "metadata": {
        "colab": {
          "base_uri": "https://localhost:8080/"
        },
        "id": "QvR7nW6NHN-g",
        "outputId": "8069c8bf-86fb-4543-a5c6-0d060a5d873e"
      },
      "execution_count": 20,
      "outputs": [
        {
          "output_type": "stream",
          "name": "stdout",
          "text": [
            "0\n",
            "1\n",
            "2\n",
            "3\n",
            "4\n",
            "5\n",
            "6\n",
            "7\n",
            "8\n",
            "9\n"
          ]
        }
      ]
    },
    {
      "cell_type": "code",
      "source": [
        "# example with loops\n",
        "for i in range(0, 4):\n",
        "  print(\"Aprox, with\", i, \"decimals is\", round(7.245,i))"
      ],
      "metadata": {
        "colab": {
          "base_uri": "https://localhost:8080/"
        },
        "id": "gUEni99RIQ7d",
        "outputId": "dae112b4-b0b5-418e-82cb-5d18213749eb"
      },
      "execution_count": 27,
      "outputs": [
        {
          "output_type": "stream",
          "name": "stdout",
          "text": [
            "Aprox, with 0 decimals is 7.0\n",
            "Aprox, with 1 decimals is 7.2\n",
            "Aprox, with 2 decimals is 7.25\n",
            "Aprox, with 3 decimals is 7.245\n"
          ]
        }
      ]
    },
    {
      "cell_type": "code",
      "source": [
        "# Exercise\n",
        "## Print result of rounding to 3 decimals the calcule 10 divided bt its precednets\n",
        "##\n",
        "for i in range(0, 4)\n",
        "  print(\"Aprox, with\", i, \"decimals is\", round(7.245,i))"
      ],
      "metadata": {
        "id": "4p-m4dzMLv11"
      },
      "execution_count": null,
      "outputs": []
    },
    {
      "cell_type": "code",
      "source": [
        "round(10/ 1)\n",
        "round(10 / 2)\n",
        "round(10 / 3)\n",
        "round(10 / 4)\n",
        "round(10 / 5)\n"
      ],
      "metadata": {
        "colab": {
          "base_uri": "https://localhost:8080/"
        },
        "id": "1oD9S1KOMbph",
        "outputId": "de6decd9-0495-4f6c-db9f-93f99fe4042a"
      },
      "execution_count": 35,
      "outputs": [
        {
          "output_type": "execute_result",
          "data": {
            "text/plain": [
              "2"
            ]
          },
          "metadata": {},
          "execution_count": 35
        }
      ]
    },
    {
      "cell_type": "code",
      "source": [
        "for i in range(1,10):\n",
        "  print(\"Aprox, with\", i, \"decimals is\", round(10/ i, 3))\n",
        ""
      ],
      "metadata": {
        "colab": {
          "base_uri": "https://localhost:8080/"
        },
        "id": "uFH6Hc_hMx4X",
        "outputId": "b535467d-6b4f-450d-e117-007e90870ad1"
      },
      "execution_count": 41,
      "outputs": [
        {
          "output_type": "stream",
          "name": "stdout",
          "text": [
            "Aprox, with 1 decimals is 10.0\n",
            "Aprox, with 2 decimals is 5.0\n",
            "Aprox, with 3 decimals is 3.333\n",
            "Aprox, with 4 decimals is 2.5\n",
            "Aprox, with 5 decimals is 2.0\n",
            "Aprox, with 6 decimals is 1.667\n",
            "Aprox, with 7 decimals is 1.429\n",
            "Aprox, with 8 decimals is 1.25\n",
            "Aprox, with 9 decimals is 1.111\n"
          ]
        }
      ]
    }
  ]
}