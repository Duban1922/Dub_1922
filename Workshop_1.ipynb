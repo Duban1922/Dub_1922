{
  "nbformat": 4,
  "nbformat_minor": 0,
  "metadata": {
    "colab": {
      "provenance": [],
      "include_colab_link": true
    },
    "kernelspec": {
      "name": "python3",
      "display_name": "Python 3"
    },
    "language_info": {
      "name": "python"
    }
  },
  "cells": [
    {
      "cell_type": "markdown",
      "metadata": {
        "id": "view-in-github",
        "colab_type": "text"
      },
      "source": [
        "<a href=\"https://colab.research.google.com/github/Duban1922/Dub_1922/blob/main/Workshop_1.ipynb\" target=\"_parent\"><img src=\"https://colab.research.google.com/assets/colab-badge.svg\" alt=\"Open In Colab\"/></a>"
      ]
    },
    {
      "cell_type": "markdown",
      "source": [
        "<h1 align = \"center\">\n",
        "<strong> Universidad de La Salle </strong>\n",
        "</h1>\n",
        "\n",
        "<h1 align = \"center\">\n",
        "<strong> Finance and International Commerce Program </strong>\n",
        "</h1>\n",
        "\n",
        "<h1 align = \"center\">\n",
        "<strong> Data Visualization - Workshop 1 </strong>\n",
        "</h1>\n"
      ],
      "metadata": {
        "id": "BJolccUZSw9G"
      }
    },
    {
      "cell_type": "markdown",
      "source": [
        "# **Instructions**\n",
        "\n",
        "1. Please read carefully the document. Ask all the questions you may have.\n",
        "2. Save this file in your Google Drive.\n",
        "3. DO NOT alter any cell unless it specifically ask you to do it.\n",
        "4. You will have **two hours** (until 11am) maximum to finish and deliver this workshop.\n",
        "5. You can use any help you want: your notes, your codes, internet, classmates.\n",
        "6. Nevertheless, the workshop must be presented individually.\n",
        "7. Once you have finish, save a copy in your GitHub class repository.\n",
        "8. The deliver process is as follows:\n",
        "    \n",
        "    8.1. Via email you will send the link to the GitHub location.\n",
        "    \n",
        "    8.2. In the same mail, just for safety, you will attach a copy of your `.ipynb` file.\n",
        "    \n",
        "    8.3. The email must have the subject: \"W1 DV\".   "
      ],
      "metadata": {
        "id": "pLRc5RAyWsre"
      }
    },
    {
      "cell_type": "markdown",
      "source": [
        "# **To keep in mind**\n",
        "\n",
        "* The excercises propouse are intended to **push** you a little futher in your Pyton skills.\n",
        "* This means that there are going to be exercises above the level seen in class.\n",
        "* The idea is to incentive your creative thinking and solving problem skills.\n",
        "* As always there several ways to do the excersice. But in this case, I ask you to use only the tools we learned.\n",
        "* I ask you to trust me. Give your best effort. Grades do not matter here."
      ],
      "metadata": {
        "id": "4QKdNKujZEbk"
      }
    },
    {
      "cell_type": "markdown",
      "source": [
        "# **Exercise Set**"
      ],
      "metadata": {
        "id": "2kRoSKUmaGl9"
      }
    },
    {
      "cell_type": "markdown",
      "source": [
        "## Ex 1.\n",
        "\n",
        "In the cell code below, first create a variable with your full name then write the appropiate code, using *split*, to print your full name as this:\n",
        "\n",
        "`First Name: José` &nbsp;   &nbsp;   &nbsp;   &nbsp;   &nbsp; `Middle Name: Rodrigo`\n",
        "\n",
        "`First Last  Name: Vélez` &nbsp;   &nbsp;   &nbsp;   &nbsp;   &nbsp; `Second Last Name: Molano`"
      ],
      "metadata": {
        "id": "LAdWe8iEaL7B"
      }
    },
    {
      "cell_type": "code",
      "execution_count": 19,
      "metadata": {
        "id": "rw792kISSt3n",
        "outputId": "54efcdb9-72da-4f09-a0b7-5eb9865b3d35",
        "colab": {
          "base_uri": "https://localhost:8080/"
        }
      },
      "outputs": [
        {
          "output_type": "stream",
          "name": "stdout",
          "text": [
            "DubanFernandoCespedesSanchez\n",
            "First name: Duban\n",
            "Niddle name: Fernando\n",
            "Firts last name: Cespedes\n",
            "Second last name: Sanchez\n"
          ]
        }
      ],
      "source": [
        "# Answ. Ex 1\n",
        "# (write your code below)\n",
        "\n",
        "a = \"Duban\"\n",
        "b = \"Fernando\"\n",
        "c = \"Cespedes\"\n",
        "d = \"Sanchez\"\n",
        "\n",
        "print( a + b + c + d)\n",
        "\n",
        "print(\"First name:\", a)\n",
        "print(\"Niddle name:\", b)\n",
        "print(\"Firts last name:\", c)\n",
        "print(\"Second last name:\", d)"
      ]
    },
    {
      "cell_type": "markdown",
      "source": [
        "## Ex 2.\n",
        "\n",
        "In the cell code below, you are given two random numbers `x` and `y`.\n",
        "\n",
        "Write the appropiate code to print the result of dividing `x` by all its precedents rounded by `y` decimal positions.\n",
        "\n",
        "This is an example of the expected result for `x = 15` and `y = 2`:\n",
        "\n",
        "`15 / 1 = 15.00`\n",
        "\n",
        "`15 / 2 = 7.50`\n",
        "\n",
        "`15 / 3 = 5.00`\n",
        "\n",
        "`...`\n",
        "\n",
        "`15 / 15 = 1.00`\n",
        "\n",
        "**JUST IN CASE!** You must use the variables given to you"
      ],
      "metadata": {
        "id": "YFsGiwcNfgzP"
      }
    },
    {
      "cell_type": "code",
      "source": [
        "# Answ. Ex 2\n",
        "###################################\n",
        "#      DO NOT MODIFY THIS PART    #\n",
        "import numpy as np\n",
        "x = round(np.random.uniform(12,22))\n",
        "y = round(np.random.uniform(1,4))\n",
        "###################################\n",
        "\n",
        "# (write your code below)\n",
        "x = 13\n",
        "y= 3\n",
        "\n",
        "for i in range(y, x):\n",
        "  print(y, \"/\", i, \"decimals is\", round( y/i, y))\n"
      ],
      "metadata": {
        "id": "Dwdsh30Ti3vl",
        "outputId": "0599f7de-2a1f-4431-b310-dce3ba467f2d",
        "colab": {
          "base_uri": "https://localhost:8080/"
        }
      },
      "execution_count": 112,
      "outputs": [
        {
          "output_type": "stream",
          "name": "stdout",
          "text": [
            "3 / 3 decimals is 1.0\n",
            "3 / 4 decimals is 0.75\n",
            "3 / 5 decimals is 0.6\n",
            "3 / 6 decimals is 0.5\n",
            "3 / 7 decimals is 0.429\n",
            "3 / 8 decimals is 0.375\n",
            "3 / 9 decimals is 0.333\n",
            "3 / 10 decimals is 0.3\n",
            "3 / 11 decimals is 0.273\n",
            "3 / 12 decimals is 0.25\n"
          ]
        }
      ]
    },
    {
      "cell_type": "markdown",
      "source": [
        "## Ex 3.\n",
        "\n",
        "The Fibonnaci sequence is a sequence constructed by the process:\n",
        "\n",
        "$x_{i} = x_{i-1} + x_{i-2}$\n",
        "\n",
        "where $x_{1} = x_{2} = 1$.\n",
        "\n",
        "Below you are given a random number `z`, write the appropiate code to calculate and print the `z`th position of the Fibonnaci sequence.\n",
        "\n",
        "\n"
      ],
      "metadata": {
        "id": "PYIRNu3imJ_n"
      }
    },
    {
      "cell_type": "code",
      "source": [
        "# Answ. Ex 3\n",
        "###################################\n",
        "#      DO NOT MODIFY THIS PART    #\n",
        "import numpy as np\n",
        "z = round(np.random.uniform(50,100))\n",
        "###################################\n",
        "\n",
        "# (write your code below)\n",
        "\n",
        "j = 1\n",
        "k = 200\n",
        "\n",
        "for i in range( j , k):\n",
        "  print(i, \"=\", (1+i))\n",
        "\n",
        "\n",
        "\n",
        "\n"
      ],
      "metadata": {
        "id": "wntlZUatp9uE",
        "outputId": "5d3024ab-3a9c-4525-f084-39e330b8c4d2",
        "colab": {
          "base_uri": "https://localhost:8080/"
        }
      },
      "execution_count": 139,
      "outputs": [
        {
          "output_type": "stream",
          "name": "stdout",
          "text": [
            "1 = 2\n",
            "2 = 3\n",
            "3 = 4\n",
            "4 = 5\n",
            "5 = 6\n",
            "6 = 7\n",
            "7 = 8\n",
            "8 = 9\n",
            "9 = 10\n",
            "10 = 11\n",
            "11 = 12\n",
            "12 = 13\n",
            "13 = 14\n",
            "14 = 15\n",
            "15 = 16\n",
            "16 = 17\n",
            "17 = 18\n",
            "18 = 19\n",
            "19 = 20\n",
            "20 = 21\n",
            "21 = 22\n",
            "22 = 23\n",
            "23 = 24\n",
            "24 = 25\n",
            "25 = 26\n",
            "26 = 27\n",
            "27 = 28\n",
            "28 = 29\n",
            "29 = 30\n",
            "30 = 31\n",
            "31 = 32\n",
            "32 = 33\n",
            "33 = 34\n",
            "34 = 35\n",
            "35 = 36\n",
            "36 = 37\n",
            "37 = 38\n",
            "38 = 39\n",
            "39 = 40\n",
            "40 = 41\n",
            "41 = 42\n",
            "42 = 43\n",
            "43 = 44\n",
            "44 = 45\n",
            "45 = 46\n",
            "46 = 47\n",
            "47 = 48\n",
            "48 = 49\n",
            "49 = 50\n",
            "50 = 51\n",
            "51 = 52\n",
            "52 = 53\n",
            "53 = 54\n",
            "54 = 55\n",
            "55 = 56\n",
            "56 = 57\n",
            "57 = 58\n",
            "58 = 59\n",
            "59 = 60\n",
            "60 = 61\n",
            "61 = 62\n",
            "62 = 63\n",
            "63 = 64\n",
            "64 = 65\n",
            "65 = 66\n",
            "66 = 67\n",
            "67 = 68\n",
            "68 = 69\n",
            "69 = 70\n",
            "70 = 71\n",
            "71 = 72\n",
            "72 = 73\n",
            "73 = 74\n",
            "74 = 75\n",
            "75 = 76\n",
            "76 = 77\n",
            "77 = 78\n",
            "78 = 79\n",
            "79 = 80\n",
            "80 = 81\n",
            "81 = 82\n",
            "82 = 83\n",
            "83 = 84\n",
            "84 = 85\n",
            "85 = 86\n",
            "86 = 87\n",
            "87 = 88\n",
            "88 = 89\n",
            "89 = 90\n",
            "90 = 91\n",
            "91 = 92\n",
            "92 = 93\n",
            "93 = 94\n",
            "94 = 95\n",
            "95 = 96\n",
            "96 = 97\n",
            "97 = 98\n",
            "98 = 99\n",
            "99 = 100\n",
            "100 = 101\n",
            "101 = 102\n",
            "102 = 103\n",
            "103 = 104\n",
            "104 = 105\n",
            "105 = 106\n",
            "106 = 107\n",
            "107 = 108\n",
            "108 = 109\n",
            "109 = 110\n",
            "110 = 111\n",
            "111 = 112\n",
            "112 = 113\n",
            "113 = 114\n",
            "114 = 115\n",
            "115 = 116\n",
            "116 = 117\n",
            "117 = 118\n",
            "118 = 119\n",
            "119 = 120\n",
            "120 = 121\n",
            "121 = 122\n",
            "122 = 123\n",
            "123 = 124\n",
            "124 = 125\n",
            "125 = 126\n",
            "126 = 127\n",
            "127 = 128\n",
            "128 = 129\n",
            "129 = 130\n",
            "130 = 131\n",
            "131 = 132\n",
            "132 = 133\n",
            "133 = 134\n",
            "134 = 135\n",
            "135 = 136\n",
            "136 = 137\n",
            "137 = 138\n",
            "138 = 139\n",
            "139 = 140\n",
            "140 = 141\n",
            "141 = 142\n",
            "142 = 143\n",
            "143 = 144\n",
            "144 = 145\n",
            "145 = 146\n",
            "146 = 147\n",
            "147 = 148\n",
            "148 = 149\n",
            "149 = 150\n",
            "150 = 151\n",
            "151 = 152\n",
            "152 = 153\n",
            "153 = 154\n",
            "154 = 155\n",
            "155 = 156\n",
            "156 = 157\n",
            "157 = 158\n",
            "158 = 159\n",
            "159 = 160\n",
            "160 = 161\n",
            "161 = 162\n",
            "162 = 163\n",
            "163 = 164\n",
            "164 = 165\n",
            "165 = 166\n",
            "166 = 167\n",
            "167 = 168\n",
            "168 = 169\n",
            "169 = 170\n",
            "170 = 171\n",
            "171 = 172\n",
            "172 = 173\n",
            "173 = 174\n",
            "174 = 175\n",
            "175 = 176\n",
            "176 = 177\n",
            "177 = 178\n",
            "178 = 179\n",
            "179 = 180\n",
            "180 = 181\n",
            "181 = 182\n",
            "182 = 183\n",
            "183 = 184\n",
            "184 = 185\n",
            "185 = 186\n",
            "186 = 187\n",
            "187 = 188\n",
            "188 = 189\n",
            "189 = 190\n",
            "190 = 191\n",
            "191 = 192\n",
            "192 = 193\n",
            "193 = 194\n",
            "194 = 195\n",
            "195 = 196\n",
            "196 = 197\n",
            "197 = 198\n",
            "198 = 199\n",
            "199 = 200\n"
          ]
        }
      ]
    },
    {
      "cell_type": "markdown",
      "source": [
        "## Ex 4.\n",
        "\n",
        "Create a string variable with the name of your favorite music artist or group.Write the appropiate code to print it in reversed order.\n",
        "\n",
        "*Example:*\n",
        "\n",
        "`w = 'Dog'`\n",
        "\n",
        "Expected result: `'goD'`.\n",
        "\n",
        "\n",
        "\n"
      ],
      "metadata": {
        "id": "2t2WnRieqLoc"
      }
    },
    {
      "cell_type": "code",
      "source": [
        "from os import name\n",
        "# Answ. Ex 4\n",
        "# (write your code below)\n",
        "\n",
        "\n",
        "Name_artist = \"Travis Scott\"\n",
        "\n",
        "Name_artist[::-1]\n",
        "\n",
        "\n",
        "\n",
        "\n",
        "\n",
        "\n",
        "\n",
        "\n"
      ],
      "metadata": {
        "outputId": "a3b2e27e-41da-4019-e6cd-e7db948c98a0",
        "colab": {
          "base_uri": "https://localhost:8080/",
          "height": 36
        },
        "id": "h45887HXWgkW"
      },
      "execution_count": 138,
      "outputs": [
        {
          "output_type": "execute_result",
          "data": {
            "text/plain": [
              "'ttocS sivarT'"
            ],
            "application/vnd.google.colaboratory.intrinsic+json": {
              "type": "string"
            }
          },
          "metadata": {},
          "execution_count": 138
        }
      ]
    }
  ]
}